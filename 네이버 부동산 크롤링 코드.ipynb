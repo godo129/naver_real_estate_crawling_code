{
 "cells": [
  {
   "cell_type": "code",
   "execution_count": 227,
   "id": "d747261a",
   "metadata": {},
   "outputs": [],
   "source": [
    "from selenium import webdriver\n",
    "from bs4 import BeautifulSoup\n",
    "import pandas as pd "
   ]
  },
  {
   "cell_type": "code",
   "execution_count": 263,
   "id": "5dcd335c",
   "metadata": {},
   "outputs": [],
   "source": [
    "def convert_price(datas) : \n",
    "    return_val = 0\n",
    "    temp = \"0\"\n",
    "    for data in datas : \n",
    "        if data == \"억\" :\n",
    "            return_val += int(temp) * 10000\n",
    "            temp = \"0\"\n",
    "        \n",
    "        elif data == \" \" or data == \",\" :\n",
    "            continue\n",
    "        else : \n",
    "            temp += data\n",
    "    return return_val + int(temp)\n",
    "            "
   ]
  },
  {
   "cell_type": "code",
   "execution_count": 264,
   "id": "58c0eb57",
   "metadata": {},
   "outputs": [],
   "source": [
    "driver = webdriver.Chrome(\"./chromedriver\")\n",
    "driver.get(\"https://new.land.naver.com/offices?ms=37.579225,126.9368,15&a=SG:SMS:GJCG:APTHGJ:GM:TJ&e=RETAIL\")\n",
    "where = \"서울시 대방동\"\n",
    "\n",
    "search_box = driver.find_element_by_xpath('//*[@id=\"search_input\"]')\n",
    "search_box.send_keys(where)"
   ]
  },
  {
   "cell_type": "code",
   "execution_count": 265,
   "id": "e0ac438d",
   "metadata": {},
   "outputs": [],
   "source": [
    "find_button = driver.find_element_by_xpath('//*[@id=\"wrap\"]/header/div[1]/form/fieldset/button[1]')\n",
    "find_button.click()"
   ]
  },
  {
   "cell_type": "code",
   "execution_count": 266,
   "id": "76f979f1",
   "metadata": {},
   "outputs": [],
   "source": [
    "sanga_btn = driver.find_element_by_xpath('//*[@id=\"wrap\"]/div[1]/a[4]')\n",
    "sanga_btn.click()"
   ]
  },
  {
   "cell_type": "code",
   "execution_count": 267,
   "id": "48805f4d",
   "metadata": {},
   "outputs": [],
   "source": [
    "html = driver.page_source\n"
   ]
  },
  {
   "cell_type": "code",
   "execution_count": 268,
   "id": "5e8068dc",
   "metadata": {},
   "outputs": [],
   "source": [
    "soup = BeautifulSoup(html, \"html.parser\")"
   ]
  },
  {
   "cell_type": "code",
   "execution_count": 269,
   "id": "c31ddae7",
   "metadata": {},
   "outputs": [],
   "source": [
    "lists = soup.find_all(\"div\",attrs=\"item_list item_list--article\")[0].find_all(\"div\",attrs=\"item false\")"
   ]
  },
  {
   "cell_type": "code",
   "execution_count": 270,
   "id": "f74707f9",
   "metadata": {
    "scrolled": true
   },
   "outputs": [
    {
     "data": {
      "text/html": [
       "<div>\n",
       "<style scoped>\n",
       "    .dataframe tbody tr th:only-of-type {\n",
       "        vertical-align: middle;\n",
       "    }\n",
       "\n",
       "    .dataframe tbody tr th {\n",
       "        vertical-align: top;\n",
       "    }\n",
       "\n",
       "    .dataframe thead th {\n",
       "        text-align: right;\n",
       "    }\n",
       "</style>\n",
       "<table border=\"1\" class=\"dataframe\">\n",
       "  <thead>\n",
       "    <tr style=\"text-align: right;\">\n",
       "      <th></th>\n",
       "      <th>이름</th>\n",
       "      <th>유형</th>\n",
       "      <th>담보/매매가</th>\n",
       "      <th>월세</th>\n",
       "      <th>유형</th>\n",
       "      <th>평수</th>\n",
       "      <th>층</th>\n",
       "      <th>방향</th>\n",
       "      <th>상세설명</th>\n",
       "      <th>위치</th>\n",
       "    </tr>\n",
       "  </thead>\n",
       "  <tbody>\n",
       "  </tbody>\n",
       "</table>\n",
       "</div>"
      ],
      "text/plain": [
       "Empty DataFrame\n",
       "Columns: [이름, 유형, 담보/매매가, 월세, 유형, 평수, 층, 방향, 상세설명, 위치]\n",
       "Index: []"
      ]
     },
     "execution_count": 270,
     "metadata": {},
     "output_type": "execute_result"
    }
   ],
   "source": [
    "data_table = pd.DataFrame(columns=[\"이름\",\"유형\",\"담보/매매가\",\"월세\",\"유형\",\"크기\",\"층\", \"방향\",\"상세설명\",\"위치\"])\n",
    "data_table"
   ]
  },
  {
   "cell_type": "code",
   "execution_count": 271,
   "id": "aaf54617",
   "metadata": {},
   "outputs": [
    {
     "name": "stdout",
     "output_type": "stream",
     "text": [
      "----------------------\n",
      "----------------------\n",
      "----------------------\n",
      "----------------------\n",
      "----------------------\n",
      "----------------------\n",
      "----------------------\n",
      "----------------------\n",
      "----------------------\n",
      "----------------------\n",
      "----------------------\n",
      "----------------------\n",
      "----------------------\n",
      "----------------------\n",
      "----------------------\n",
      "----------------------\n",
      "----------------------\n",
      "----------------------\n",
      "----------------------\n",
      "----------------------\n"
     ]
    }
   ],
   "source": [
    "\n",
    "ls = []\n",
    "\n",
    "\n",
    "for l in lists : \n",
    "  \n",
    "\n",
    "    datas = l.find(\"div\")\n",
    "    title = datas.find(\"div\",attrs=\"item_title\").text\n",
    "    types = datas.find(\"span\",attrs=\"type\").text\n",
    "    price_deposit = convert_price(datas.find(\"span\",attrs=\"price\").text.split(\"/\")[0])\n",
    "    \n",
    "    \n",
    "    # 전/월세\n",
    "    try : \n",
    "        price_monthly = convert_price(datas.find(\"span\",attrs=\"price\").text.split(\"/\")[1])\n",
    "        \n",
    "    # 매매\n",
    "    except : \n",
    "        price_monthly = 0\n",
    "    info_type = datas.find(\"strong\", attrs=\"type\").text\n",
    "    \n",
    "    # 방향정보 있을 때\n",
    "    if len(datas.find(\"span\",attrs=\"spec\").text.split(\",\")) == 3 : \n",
    "        info_area, info_floor, info_direction = datas.find(\"span\",attrs=\"spec\").text.split(\",\")\n",
    "        \n",
    "    # 방향정보 없을 때 \n",
    "    else : \n",
    "        info_area, info_floor = datas.find(\"span\",attrs=\"spec\").text.split(\",\")\n",
    "        info_direction = \"방향정보없음\"\n",
    "        \n",
    "    info_detail = datas.find(\"div\",attrs=\"info_area\").find_all(\"span\")[1].text\n",
    "        \n",
    "    ls.append([title,types,price_deposit,price_monthly,info_type,info_area, info_floor, info_direction,info_detail,where])\n",
    "\n",
    "    \n",
    "driver.close()"
   ]
  },
  {
   "cell_type": "code",
   "execution_count": 272,
   "id": "65dfb4ff",
   "metadata": {},
   "outputs": [],
   "source": [
    "for l in ls : \n",
    "    data_table.loc[len(data_table)] = l"
   ]
  },
  {
   "cell_type": "markdown",
   "id": "e2bd1a4c",
   "metadata": {},
   "source": [
    "## data_table"
   ]
  },
  {
   "cell_type": "code",
   "execution_count": null,
   "id": "aa12feb4",
   "metadata": {},
   "outputs": [],
   "source": []
  }
 ],
 "metadata": {
  "kernelspec": {
   "display_name": "Python 3 (ipykernel)",
   "language": "python",
   "name": "python3"
  },
  "language_info": {
   "codemirror_mode": {
    "name": "ipython",
    "version": 3
   },
   "file_extension": ".py",
   "mimetype": "text/x-python",
   "name": "python",
   "nbconvert_exporter": "python",
   "pygments_lexer": "ipython3",
   "version": "3.8.9"
  }
 },
 "nbformat": 4,
 "nbformat_minor": 5
}
